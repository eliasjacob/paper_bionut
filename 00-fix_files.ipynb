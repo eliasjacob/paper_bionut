{
 "cells": [
  {
   "cell_type": "code",
   "execution_count": 1,
   "metadata": {},
   "outputs": [],
   "source": [
    "# Import necessary libraries\n",
    "import pandas as pd\n",
    "import numpy as np\n",
    "from glob import glob\n",
    "import re\n",
    "import time\n",
    "from multiprocessing import cpu_count\n",
    "\n",
    "# Machine learning libraries\n",
    "from sklearn.model_selection import StratifiedKFold, cross_val_predict, train_test_split, KFold\n",
    "from sklearn.metrics import mean_squared_error, mean_absolute_error, r2_score\n",
    "from sklearn.preprocessing import LabelEncoder\n",
    "\n",
    "# Visualization libraries\n",
    "import matplotlib.pyplot as plt\n",
    "import seaborn as sns\n",
    "import plotly.graph_objects as go\n",
    "\n",
    "# Machine learning models\n",
    "from lightgbm import LGBMRegressor\n",
    "from xgboost import XGBRegressor\n",
    "from sklearn.linear_model import LinearRegression, SGDRegressor\n",
    "from sklearn.ensemble import RandomForestRegressor, ExtraTreesRegressor\n",
    "from sklearn.neighbors import KNeighborsRegressor\n",
    "from sklearn.tree import DecisionTreeRegressor\n",
    "from sklearn.svm import LinearSVR\n",
    "from sklearn.neural_network import MLPRegressor\n",
    "\n",
    "# Set pandas display options\n",
    "pd.options.display.float_format = '{:.5f}'.format"
   ]
  },
  {
   "cell_type": "markdown",
   "metadata": {},
   "source": [
    "## Data Loading and Preprocessing"
   ]
  },
  {
   "cell_type": "code",
   "execution_count": 13,
   "metadata": {},
   "outputs": [
    {
     "name": "stdout",
     "output_type": "stream",
     "text": [
      "Number of biologist files: 5, Number of food scientist files: 13\n"
     ]
    }
   ],
   "source": [
    "# Load Excel files from specified directories\n",
    "files_bio = glob('input/BIOLOGOS/*.xlsx')\n",
    "files_food = glob('input/ALIMENTOS/*.xlsx')\n",
    "fixed_data = pd.read_csv('input/Supplementary Material 3 - BIONUT - Neglected Food Species - Página1.csv')\n",
    "print(f\"Number of biologist files: {len(files_bio)}, Number of food scientist files: {len(files_food)}\")"
   ]
  },
  {
   "cell_type": "code",
   "execution_count": 10,
   "metadata": {},
   "outputs": [],
   "source": [
    "KEEP_SRC = ['id', 'Considerando a escala seguinte, qual a prioridade para que esse alimento seja analisado em estudos de composição nutricional? ',\n",
    "       'Qual o seu nível de confiança nessa resposta relacionada à priorização de composição?',\n",
    "       'Considerando a escala seguinte, qual a prioridade para que esse alimento seja incluído em pesquisas de consumo alimentar?',\n",
    "       'Qual o seu nível de confiança na sua resposta relacionada à priorização de consumo?',\n",
    "       'Observações (caso necessário)']\n",
    "\n",
    "KEEP_NEW_FILE = ['id', 'food category', 'scientific name', 'family', 'popular name',\n",
    "       'occurrence by region', 'conservation status', 'origin',\n",
    "       'commercial cultivation',\n",
    "       'availability of nutritional composition data',\n",
    "       'number of recipes (POF/IBGE)', 'number of recipes - other sources']"
   ]
  },
  {
   "cell_type": "code",
   "execution_count": 16,
   "metadata": {},
   "outputs": [],
   "source": [
    "for file in files_food + files_bio:\n",
    "    old_data = pd.read_excel(file)[KEEP_SRC]\n",
    "    new_data = pd.merge(fixed_data[KEEP_NEW_FILE], old_data,  on='id', how='left')\n",
    "    new_data.to_excel(file, index=False)"
   ]
  }
 ],
 "metadata": {
  "kernelspec": {
   "display_name": "paper-bionut-VUXlxHLR-py3.12",
   "language": "python",
   "name": "python3"
  },
  "language_info": {
   "codemirror_mode": {
    "name": "ipython",
    "version": 3
   },
   "file_extension": ".py",
   "mimetype": "text/x-python",
   "name": "python",
   "nbconvert_exporter": "python",
   "pygments_lexer": "ipython3",
   "version": "3.12.7"
  }
 },
 "nbformat": 4,
 "nbformat_minor": 2
}
